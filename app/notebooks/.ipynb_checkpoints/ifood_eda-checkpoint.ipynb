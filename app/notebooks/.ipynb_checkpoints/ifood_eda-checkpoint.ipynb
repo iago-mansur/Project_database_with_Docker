{
 "cells": [
  {
   "cell_type": "code",
   "execution_count": 1,
   "id": "9d692ad6-3de3-4ae2-ab47-73a48b8d1ec6",
   "metadata": {},
   "outputs": [],
   "source": [
    "# 🍽️ iFood Restaurants Dataset - EDA\n",
    "# This script loads and explores the merged iFood dataset created by data_loader.py.\n",
    "# Data Source: https://www.kaggle.com/datasets/ricardotachinardi/ifood-restaurants-data\n",
    "# Merged CSV: data/ifood_combined.csv\n",
    "\n",
    "# 📦 Import libraries\n",
    "import pandas as pd\n",
    "import matplotlib.pyplot as plt\n",
    "import seaborn as sns"
   ]
  },
  {
   "cell_type": "code",
   "execution_count": 2,
   "id": "44a46b1b-ddca-4852-b27f-2bf4dd183446",
   "metadata": {},
   "outputs": [
    {
     "name": "stderr",
     "output_type": "stream",
     "text": [
      "/tmp/ipykernel_46/876088603.py:6: DtypeWarning: Columns (0,11,14) have mixed types. Specify dtype option on import or set low_memory=False.\n",
      "  df = pd.read_csv(\"/app/data/ifood_combined.csv\")\n"
     ]
    },
    {
     "name": "stdout",
     "output_type": "stream",
     "text": [
      "✅ Loaded dataset with 767846 rows and 17 columns\n",
      "  availableForScheduling                                             avatar  \\\n",
      "0                  False  https://static-images.ifood.com.br/image/uploa...   \n",
      "1                  False  https://static-images.ifood.com.br/image/uploa...   \n",
      "2                  False  https://static-images.ifood.com.br/image/uploa...   \n",
      "3                  False  https://static-images.ifood.com.br/image/uploa...   \n",
      "4                  False  https://static-images.ifood.com.br/image/uploa...   \n",
      "\n",
      "     category  delivery_fee  delivery_time  distance       ibge  lat  long  \\\n",
      "0     Marmita          3.99             27      1.22  5300108.0  NaN   NaN   \n",
      "1        Açaí          7.99             61      4.96  5300108.0  NaN   NaN   \n",
      "2     Bebidas         11.99             70      8.35  5300108.0  NaN   NaN   \n",
      "3      Carnes         16.49             63      6.35  5300108.0  NaN   NaN   \n",
      "4  Brasileira         11.99             58      5.22  5300108.0  NaN   NaN   \n",
      "\n",
      "   minimumOrderValue                        name  \\\n",
      "0               10.0        Cantina Arte & Sabor   \n",
      "1               10.0            Raruty Açaí Raiz   \n",
      "2                5.0               Toma na Kombi   \n",
      "3               20.0  Churrasquinho do Barriga´s   \n",
      "4               20.0           Prime Restaurante   \n",
      "\n",
      "                                        paymentCodes price_range  rating  \\\n",
      "0  DNR $$ MPAY $$ MOVPAY_MC $$ MC $$ GPY_ELO $$ E...    CHEAPEST     0.0   \n",
      "1  DNR $$ MPAY $$ MOVPAY_MC $$ MC $$ GPY_ELO $$ E...    CHEAPEST     0.0   \n",
      "2  DNR $$ MPAY $$ MOVPAY_MC $$ MC $$ GPY_ELO $$ R...    MODERATE     0.0   \n",
      "3  DNR $$ MPAY $$ MOVPAY_MC $$ MC $$ GPY_ELO $$ E...    CHEAPEST     0.0   \n",
      "4  DNR $$ MPAY $$ MOVPAY_MC $$ MC $$ GPY_ELO $$ E...    CHEAPEST     0.0   \n",
      "\n",
      "                                                tags  \\\n",
      "0  ADDRESS_PREFORM_TYPE $$ CART::MCHT::100_DELIVE...   \n",
      "1  ADDRESS_PREFORM_TYPE $$ GUIDED_HELP_TYPE $$ ME...   \n",
      "2  ADDRESS_PREFORM_TYPE $$ CPGN_USER_DISCOUNT_6_L...   \n",
      "3  ADDRESS_PREFORM_TYPE $$ GUIDED_HELP_TYPE $$ NO...   \n",
      "4   ADDRESS_PREFORM_TYPE $$ GUIDED_HELP_TYPE $$ NOVO   \n",
      "\n",
      "                                                 url   source  \n",
      "0  https://www.ifood.com.br/delivery/brasilia-df/...  feb2021  \n",
      "1  https://www.ifood.com.br/delivery/brasilia-df/...  feb2021  \n",
      "2  https://www.ifood.com.br/delivery/brasilia-df/...  feb2021  \n",
      "3  https://www.ifood.com.br/delivery/brasilia-df/...  feb2021  \n",
      "4  https://www.ifood.com.br/delivery/brasilia-df/...  feb2021  \n"
     ]
    }
   ],
   "source": [
    "# 📊 Set up styles\n",
    "sns.set(style=\"whitegrid\")\n",
    "plt.rcParams['figure.figsize'] = (10, 6)\n",
    "\n",
    "# 📥 Load merged dataset\n",
    "df = pd.read_csv(\"/app/data/ifood_combined.csv\")\n",
    "\n",
    "print(f\"✅ Loaded dataset with {len(df)} rows and {df.shape[1]} columns\")\n",
    "print(df.head())"
   ]
  },
  {
   "cell_type": "code",
   "execution_count": 3,
   "id": "92002234-92f4-4a24-8595-6030243adb26",
   "metadata": {},
   "outputs": [
    {
     "name": "stdout",
     "output_type": "stream",
     "text": [
      "\n",
      "🔍 Data Info:\n",
      "<class 'pandas.core.frame.DataFrame'>\n",
      "RangeIndex: 767846 entries, 0 to 767845\n",
      "Data columns (total 17 columns):\n",
      " #   Column                  Non-Null Count   Dtype  \n",
      "---  ------                  --------------   -----  \n",
      " 0   availableForScheduling  406399 non-null  object \n",
      " 1   avatar                  767271 non-null  object \n",
      " 2   category                767846 non-null  object \n",
      " 3   delivery_fee            767846 non-null  float64\n",
      " 4   delivery_time           767846 non-null  int64  \n",
      " 5   distance                767846 non-null  float64\n",
      " 6   ibge                    406399 non-null  float64\n",
      " 7   lat                     361447 non-null  float64\n",
      " 8   long                    361447 non-null  float64\n",
      " 9   minimumOrderValue       406399 non-null  float64\n",
      " 10  name                    767846 non-null  object \n",
      " 11  paymentCodes            406397 non-null  object \n",
      " 12  price_range             767846 non-null  object \n",
      " 13  rating                  767846 non-null  float64\n",
      " 14  tags                    406399 non-null  object \n",
      " 15  url                     767846 non-null  object \n",
      " 16  source                  767846 non-null  object \n",
      "dtypes: float64(7), int64(1), object(9)\n",
      "memory usage: 99.6+ MB\n"
     ]
    }
   ],
   "source": [
    "# 🧾 Basic info\n",
    "print(\"\\n🔍 Data Info:\")\n",
    "df.info()"
   ]
  },
  {
   "cell_type": "code",
   "execution_count": 4,
   "id": "230bc1f5-7ee5-4d94-a047-492fffcbffe3",
   "metadata": {},
   "outputs": [
    {
     "name": "stdout",
     "output_type": "stream",
     "text": [
      "\n",
      "❗ Missing Values (Top 10):\n",
      "long                      406399\n",
      "lat                       406399\n",
      "paymentCodes              361449\n",
      "ibge                      361447\n",
      "tags                      361447\n",
      "minimumOrderValue         361447\n",
      "availableForScheduling    361447\n",
      "avatar                       575\n",
      "distance                       0\n",
      "delivery_time                  0\n",
      "dtype: int64\n"
     ]
    }
   ],
   "source": [
    "# 🔍 Check for missing values\n",
    "print(\"\\n❗ Missing Values (Top 10):\")\n",
    "print(df.isna().sum().sort_values(ascending=False).head(10))"
   ]
  },
  {
   "cell_type": "code",
   "execution_count": 8,
   "id": "94d94aaa-6468-432f-984f-eb47c63bb907",
   "metadata": {},
   "outputs": [
    {
     "data": {
      "image/png": "[encoded data removed]",
      "text/plain": [
       "<Figure size 1000x600 with 1 Axes>"
      ]
     },
     "metadata": {},
     "output_type": "display_data"
    }
   ],
   "source": [
    "# 📈 Distribution of sources\n",
    "sns.countplot(data=df, x=\"source\")\n",
    "plt.title(\"Number of records per source\")\n",
    "plt.show()"
   ]
  },
  {
   "cell_type": "code",
   "execution_count": 9,
   "id": "990adb54-0118-4e56-82b3-b942509fe11f",
   "metadata": {},
   "outputs": [],
   "source": [
    "# 💡 Sample value counts for a key categorical column\n",
    "if 'kitchen' in df.columns:\n",
    "    df['kitchen'].value_counts().head(10).plot(kind='bar')\n",
    "    plt.title(\"Top 10 Kitchen Types\")\n",
    "    plt.ylabel(\"Count\")\n",
    "    plt.xlabel(\"Kitchen\")\n",
    "    plt.xticks(rotation=45)\n",
    "    plt.tight_layout()\n",
    "    plt.show()"
   ]
  }
 ],
 "metadata": {
  "kernelspec": {
   "display_name": "Python 3 (ipykernel)",
   "language": "python",
   "name": "python3"
  },
  "language_info": {
   "codemirror_mode": {
    "name": "ipython",
    "version": 3
   },
   "file_extension": ".py",
   "mimetype": "text/x-python",
   "name": "python",
   "nbconvert_exporter": "python",
   "pygments_lexer": "ipython3",
   "version": "3.10.17"
  }
 },
 "nbformat": 4,
 "nbformat_minor": 5
}
